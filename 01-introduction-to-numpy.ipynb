{
 "cells": [
  {
   "cell_type": "markdown",
   "id": "0d076860-2175-4e59-865c-113cc0b28aa0",
   "metadata": {},
   "source": [
    "# NumPy\n",
    "\n",
    "According to the [documentation](https://numpy.org/doc/stable/) NumPy is:\n",
    "\n",
    "> NumPy is the fundamental package for scientific computing in Python. It is a Python library that provides a multidimensional array object,\n",
    "> various derived objects (such as masked arrays and matrices), and an assortment of routines for fast operations on arrays,\n",
    "> including mathematical, logical, shape manipulation, sorting, selecting, I/O, discrete Fourier transforms,\n",
    "> basic linear algebra, basic statistical operations, random simulation and much more.\n",
    "\n",
    "This notebook provides a short introduction the the basic concepts of NumPy. The main goal is to enable you to \n",
    "understand the NumPy code that is used in the following notebooks. This introduction is by now means complete. \n",
    "Additional learning resources can be found in the [References](#References) at the end of this notebook.\n",
    "\n",
    "In oder to use NumPy it first needs to be installed. This can be done using e.g. `pip install numpy` in the shell\n",
    "or by executing a cell containing `!pip install numpy` inside a Jupyter notebook. "
   ]
  },
  {
   "cell_type": "code",
   "execution_count": null,
   "id": "b95cb2c3-76f8-4af8-9daa-05f38939346a",
   "metadata": {},
   "outputs": [],
   "source": [
    "!pip install numpy"
   ]
  },
  {
   "cell_type": "markdown",
   "id": "4de590d3-1f52-48ae-b59b-84f652147407",
   "metadata": {},
   "source": [
    "## Why NumPy?\n",
    "One of the core features of NumPy is improved performance compared to plain Python when working with large vectors or matrices. \n",
    "Large multi-dimensional matrices and mathematical operations on them are core building blocks of artificial \n",
    "[Neural Networks](https://en.wikipedia.org/wiki/Neural_network_(machine_learning)).\n",
    "\n",
    "The performance improvement of NumPy is demonstrated in the following cells. "
   ]
  },
  {
   "cell_type": "code",
   "execution_count": null,
   "id": "b780a4a3-cfab-48cb-ace1-3b85d04e5cd1",
   "metadata": {},
   "outputs": [],
   "source": [
    "import numpy as np\n",
    "\n",
    "numpy_array = np.arange(1000000)\n",
    "python_list = list(range(1000000))"
   ]
  },
  {
   "cell_type": "code",
   "execution_count": null,
   "id": "a0125a1a-6a4e-43e8-98f1-b097b6a77b21",
   "metadata": {},
   "outputs": [],
   "source": [
    "%timeit squares = numpy_array ** 2"
   ]
  },
  {
   "cell_type": "code",
   "execution_count": null,
   "id": "24c22a7e-3dc0-4c80-922e-f3f4fa0661d2",
   "metadata": {},
   "outputs": [],
   "source": [
    "%timeit squares = [x ** 2 for x in numpy_array]"
   ]
  },
  {
   "cell_type": "markdown",
   "id": "22353fca-d290-44c4-8f2b-a6b3b516f492",
   "metadata": {},
   "source": [
    "## NumPy arrays\n",
    "\n",
    "The central data structure in NumPy are multi-dimensional arrays, often referred to as `ndarrays`. In theses arrays all elements have\n",
    "the same data type. This data type is called the array's `dtype`. The ndarrays support most of the \n",
    "[common sequence operations](https://docs.python.org/3/library/stdtypes.html#typesseq-common)."
   ]
  },
  {
   "cell_type": "code",
   "execution_count": null,
   "id": "c520c754-6839-46ea-a73f-b91431ee18da",
   "metadata": {},
   "outputs": [],
   "source": [
    "a = np.array([1,2,3,4,5,6])\n",
    "b = np.array([[1,2,3],[4,5,6],[7,8,9]])"
   ]
  },
  {
   "cell_type": "code",
   "execution_count": null,
   "id": "9e206369-e18c-493b-8905-ca8574ebfe5f",
   "metadata": {},
   "outputs": [],
   "source": [
    "print(a[1])\n",
    "print(b[2][1])\n",
    "\n",
    "print(b[1:])\n",
    "\n",
    "print(5 in a)\n",
    "print(min(a))\n",
    "print(min(b))"
   ]
  },
  {
   "cell_type": "markdown",
   "id": "de5f5c9f-192a-40a9-b5bd-2c511dff0250",
   "metadata": {},
   "source": [
    "However, not all operations are supported by all ndarrays. For example, the `min()` and `max()` functions only work \n",
    "for one-dimensional arrays. For arrays with two or more dimensions the corresponding `numpy.min()` and `numpy.max()` \n",
    "functions need to be used. These functions enable to specify the array dimensions for which the minimum and maximum \n",
    "values are calculated."
   ]
  },
  {
   "cell_type": "code",
   "execution_count": null,
   "id": "ff367a7e-3840-48b8-995f-f7597c65e49d",
   "metadata": {},
   "outputs": [],
   "source": [
    "print(np.min(b))\n",
    "print(np.min(b,axis=0))\n",
    "print(np.max(b,axis=1))"
   ]
  },
  {
   "cell_type": "markdown",
   "id": "62fbd5be-0786-4189-9dc5-6f1683f273fb",
   "metadata": {},
   "source": [
    "### Creating arrays\n",
    "The simplest way to create ndarrays is from Python lists. This approach was already shown above. In addition NumPy provides functions\n",
    "to create arrays filled with zeros, arrays filled with ones or arrays from ranges. Furthermore, the `np.linspace()` function\n",
    "creates arrays with linearly spaced values in a specific interval. "
   ]
  },
  {
   "cell_type": "code",
   "execution_count": null,
   "id": "d6537d3c-62e0-4463-b9c0-f8e11b64a241",
   "metadata": {},
   "outputs": [],
   "source": [
    "print(np.zeros(3))\n",
    "print(np.ones([3,4]))\n",
    "\n",
    "print(np.arange(10))\n",
    "print(np.linspace(0,20,9))"
   ]
  },
  {
   "cell_type": "markdown",
   "id": "c07626fb-ebbe-4213-a161-212a7d739be6",
   "metadata": {},
   "source": [
    "### Shape and size of an array\n",
    "NumPy provide special attributes to get the shape, size or data type of an array. As an example, lets create a three-dimensional array:"
   ]
  },
  {
   "cell_type": "code",
   "execution_count": null,
   "id": "4c957015-a966-48d3-b26c-ead7843dfdea",
   "metadata": {},
   "outputs": [],
   "source": [
    "a = np.array([[[0,1,2,3],\n",
    "               [4,5,6,7]],\n",
    "              [[0,1,2,3],\n",
    "               [4,5,6,7]],\n",
    "              [[0,1,2,3],\n",
    "               [4,5,6,7]]])"
   ]
  },
  {
   "cell_type": "markdown",
   "id": "af76fc71-4a80-4bea-bad3-3eb723b141fc",
   "metadata": {},
   "source": [
    "Using the `ndim` get the dimensions of the array, using `size` the number of elements and using `shape` the size of each dimension. "
   ]
  },
  {
   "cell_type": "code",
   "execution_count": null,
   "id": "ecc5c51a-1469-4cf5-9bde-5507fe9aee36",
   "metadata": {},
   "outputs": [],
   "source": [
    "print(f\"The array has {a.ndim} dimensions.\")\n",
    "print(f\"It contains {a.size} elements.\")\n",
    "print(f\"The shape of the array is:\", a.shape)"
   ]
  },
  {
   "cell_type": "markdown",
   "id": "0122960a-d6a4-4364-86c5-f28d09c7e90e",
   "metadata": {},
   "source": [
    "## Array operations\n",
    "\n",
    "### Basic arithmetic operations\n",
    "One of the interesting features of ndarrays is, that basic arithmetic operations are applied to every element. \n",
    "Using Python lists a loop or a list comprehension (just a short hand notation for a loop) are necessary to perform \n",
    "a operation on every element."
   ]
  },
  {
   "cell_type": "code",
   "execution_count": null,
   "id": "9fd09c4f-6654-4146-8403-50df2f3a3ebd",
   "metadata": {},
   "outputs": [],
   "source": [
    "l = list(range(10))\n",
    "\n",
    "squares = []\n",
    "for x in l:\n",
    "    squares.append(x ** 2)\n",
    "\n",
    "squares = [x ** 2 for x in l]\n"
   ]
  },
  {
   "cell_type": "markdown",
   "id": "6a23eea0-d3d7-4b67-baf7-e3a73312f430",
   "metadata": {},
   "source": [
    "Using NumPy the same operation can be expressed using one line."
   ]
  },
  {
   "cell_type": "code",
   "execution_count": null,
   "id": "fcb982b7-d9f5-4074-9c83-8ae072bb38e3",
   "metadata": {},
   "outputs": [],
   "source": [
    "squares = a ** 2\n",
    "squares"
   ]
  },
  {
   "cell_type": "markdown",
   "id": "25eef091-0b26-4640-80cf-25d15014ffb0",
   "metadata": {},
   "source": [
    "The same is true for all other basic operations."
   ]
  },
  {
   "cell_type": "code",
   "execution_count": null,
   "id": "b17f244d-f4ec-4214-a849-d1f3423767cc",
   "metadata": {},
   "outputs": [],
   "source": [
    "print(a - 5)\n",
    "print((a ** 2) < 30)\n",
    "print(10 * a)"
   ]
  },
  {
   "cell_type": "markdown",
   "id": "8bf8b860-bd9b-4af5-87d9-786a44c7e766",
   "metadata": {},
   "source": [
    "### Matrix operations\n",
    "Numpy also provides an implementation of the [dot product](https://en.wikipedia.org/wiki/Matrix_multiplication) for matrices. \n",
    "The dot product can be calculated using the `@` operator ot the `dot()` method. The cell below shows a few examples of calculating the dot product."
   ]
  },
  {
   "cell_type": "code",
   "execution_count": null,
   "id": "6b69bf34-e057-4ec0-8960-d17bb55915af",
   "metadata": {},
   "outputs": [],
   "source": [
    "m = np.array([[1,2,3,4], [5,6, 7, 8]])\n",
    "n = m.T\n",
    "v = np.array([1,2,3,4]\n",
    "print(m @ v)\n",
    "print(n.dot(m))\n",
    "print(m.dot(n))"
   ]
  },
  {
   "cell_type": "markdown",
   "id": "61fd77fb-df7f-43a6-8e27-e6b8791439e8",
   "metadata": {},
   "source": [
    "## Mathematicl formulas\n",
    "One of the biggest advantages of using NumPy is the ease of implementing mathematical formulas. Consider, for example, the formula\n",
    "for the [mean square error](https://en.wikipedia.org/wiki/Mean_squared_error):\n",
    "\n",
    "$\\text{MSE} = \\frac{1}{n} \\sum_{i=1}^n (y_i - \\hat{y}_i)^2$.\n",
    "\n",
    "This formula can be implemented using the Python code below. Note, that for the purpose of demonstration \n",
    "the arrays `predictions` and `labels` are initialized with some dummy values."
   ]
  },
  {
   "cell_type": "code",
   "execution_count": null,
   "id": "e00eb2ce-339c-43fc-9518-1d821ffee23b",
   "metadata": {},
   "outputs": [],
   "source": [
    "predictions = np.ones(3)\n",
    "labels = np.array([1,2,3])\n",
    "\n",
    "error = (1/predictions.size) * np.sum(np.square(predictions - labels))\n",
    "print(error)"
   ]
  },
  {
   "cell_type": "markdown",
   "id": "16c6207a-0ccb-40e5-b920-07eb3491f899",
   "metadata": {},
   "source": [
    "## References\n",
    "The content of this notebook is mainly based on the following documents:\n",
    "- [NumPy Quickstart](https://numpy.org/devdocs/user/quickstart.html)\n",
    "- [NumPy: the absolute basics for beginners](https://numpy.org/doc/stable/user/absolute_beginners.html).\n",
    "\n",
    "A curated list of [NumPy](https://numpy.org/) learning resources is available [here](https://numpy.org/learn/).\n",
    "\n",
    "The complete list of functionality provided by NumPy can be found in the [NumPy API Reference](https://numpy.org/doc/stable/reference/index.html)."
   ]
  }
 ],
 "metadata": {
  "kernelspec": {
   "display_name": "Python 3 (ipykernel)",
   "language": "python",
   "name": "python3"
  },
  "language_info": {
   "codemirror_mode": {
    "name": "ipython",
    "version": 3
   },
   "file_extension": ".py",
   "mimetype": "text/x-python",
   "name": "python",
   "nbconvert_exporter": "python",
   "pygments_lexer": "ipython3",
   "version": "3.12.3"
  }
 },
 "nbformat": 4,
 "nbformat_minor": 5
}
